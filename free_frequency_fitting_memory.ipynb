{
 "cells": [
  {
   "cell_type": "markdown",
   "metadata": {},
   "source": [
    "Updated: 20/02/2024\n",
    "\n",
    "This code varies the frequency to fine the one that minimises mismatch across a range of start times. It plots this to check whether frequency hovers around the expected value (for memory modes). "
   ]
  },
  {
   "cell_type": "code",
   "execution_count": 3,
   "metadata": {},
   "outputs": [
    {
     "ename": "ModuleNotFoundError",
     "evalue": "No module named 'spatial_reconstruction_tests.spatial_reconstruction'",
     "output_type": "error",
     "traceback": [
      "\u001b[0;31m---------------------------------------------------------------------------\u001b[0m",
      "\u001b[0;31mModuleNotFoundError\u001b[0m                       Traceback (most recent call last)",
      "Cell \u001b[0;32mIn[3], line 5\u001b[0m\n\u001b[1;32m      3\u001b[0m \u001b[38;5;28;01mimport\u001b[39;00m \u001b[38;5;21;01mqnmfitsrd\u001b[39;00m \u001b[38;5;28;01mas\u001b[39;00m \u001b[38;5;21;01mqnmfits\u001b[39;00m\n\u001b[1;32m      4\u001b[0m \u001b[38;5;28;01mfrom\u001b[39;00m \u001b[38;5;21;01mmultiprocessing\u001b[39;00m \u001b[38;5;28;01mimport\u001b[39;00m Pool\n\u001b[0;32m----> 5\u001b[0m \u001b[38;5;28;01mfrom\u001b[39;00m \u001b[38;5;21;01mspatial_reconstruction_tests\u001b[39;00m\u001b[38;5;21;01m.\u001b[39;00m\u001b[38;5;21;01mspatial_reconstruction\u001b[39;00m \u001b[38;5;28;01mimport\u001b[39;00m \u001b[38;5;241m*\u001b[39m\n\u001b[1;32m      6\u001b[0m \u001b[38;5;28;01mfrom\u001b[39;00m \u001b[38;5;21;01mmatplotlib\u001b[39;00m\u001b[38;5;21;01m.\u001b[39;00m\u001b[38;5;21;01manimation\u001b[39;00m \u001b[38;5;28;01mimport\u001b[39;00m FuncAnimation\n\u001b[1;32m      7\u001b[0m \u001b[38;5;28;01mfrom\u001b[39;00m \u001b[38;5;21;01mscipy\u001b[39;00m\u001b[38;5;21;01m.\u001b[39;00m\u001b[38;5;21;01minterpolate\u001b[39;00m \u001b[38;5;28;01mimport\u001b[39;00m UnivariateSpline\n",
      "\u001b[0;31mModuleNotFoundError\u001b[0m: No module named 'spatial_reconstruction_tests.spatial_reconstruction'"
     ]
    }
   ],
   "source": [
    "import numpy as np\n",
    "import matplotlib.pyplot as plt\n",
    "import qnmfitsrd as qnmfits\n",
    "from multiprocessing import Pool\n",
    "from spatial_reconstruction_tests.spatial_reconstruction import *\n",
    "from matplotlib.animation import FuncAnimation\n",
    "from scipy.interpolate import UnivariateSpline\n",
    "from Visualisation.qnm_vis import * \n",
    "from qnmfitsrd.CCE_file_getter import *\n",
    "import datetime\n",
    "from scipy.optimize import least_squares\n",
    "\n",
    "l_max = 7\n",
    "n_max = 7"
   ]
  },
  {
   "cell_type": "code",
   "execution_count": null,
   "metadata": {},
   "outputs": [],
   "source": [
    "CCE_sim1 = CCE_to_sim_simplified(sim_num='0001')\n",
    "CCE_sim2 = CCE_to_sim_simplified(sim_num='0002')\n",
    "CCE_sim3 = CCE_to_sim_simplified(sim_num='0003')\n",
    "CCE_sim4 = CCE_to_sim_simplified(sim_num='0004')\n",
    "CCE_sim5 = CCE_to_sim_simplified(sim_num='0005')\n",
    "CCE_sim6 = CCE_to_sim_simplified(sim_num='0006')\n",
    "CCE_sim7 = CCE_to_sim_simplified(sim_num='0007')\n",
    "CCE_sim8 = CCE_to_sim_simplified(sim_num='0008')\n",
    "CCE_sim9 = CCE_to_sim_simplified(sim_num='0009')\n",
    "CCE_sim10 = CCE_to_sim_simplified(sim_num='0010')\n",
    "CCE_sim11 = CCE_to_sim_simplified(sim_num='0011')\n",
    "CCE_sim12 = CCE_to_sim_simplified(sim_num='0012')\n",
    "CCE_sim13 = CCE_to_sim_simplified(sim_num='0013')\n",
    "\n",
    "CCE_sim305 = CCE_to_sim_simplified(sim_num='0305')"
   ]
  },
  {
   "cell_type": "markdown",
   "metadata": {},
   "source": [
    "# Reproducing Fig. 1\n",
    "\n",
    "Note this doesn't use the CCE waveforms.\n",
    "\n",
    "Assume linear model fits to a particular l,m using only the QNM harmonics of that l,m"
   ]
  },
  {
   "cell_type": "code",
   "execution_count": null,
   "metadata": {},
   "outputs": [
    {
     "ename": "NameError",
     "evalue": "name 'CCE_sim305' is not defined",
     "output_type": "error",
     "traceback": [
      "\u001b[0;31m---------------------------------------------------------------------------\u001b[0m",
      "\u001b[0;31mNameError\u001b[0m                                 Traceback (most recent call last)",
      "Cell \u001b[0;32mIn[2], line 3\u001b[0m\n\u001b[1;32m      1\u001b[0m quadratic_mode \u001b[38;5;241m=\u001b[39m (\u001b[38;5;241m2\u001b[39m,\u001b[38;5;241m2\u001b[39m,\u001b[38;5;241m0\u001b[39m,\u001b[38;5;241m1\u001b[39m,\u001b[38;5;241m2\u001b[39m,\u001b[38;5;241m-\u001b[39m\u001b[38;5;241m2\u001b[39m,\u001b[38;5;241m0\u001b[39m,\u001b[38;5;241m-\u001b[39m\u001b[38;5;241m1\u001b[39m) \n\u001b[1;32m      2\u001b[0m spherical_mode \u001b[38;5;241m=\u001b[39m (\u001b[38;5;241m4\u001b[39m,\u001b[38;5;241m0\u001b[39m) \n\u001b[0;32m----> 3\u001b[0m sim \u001b[38;5;241m=\u001b[39m \u001b[43mCCE_sim305\u001b[49m\n\u001b[1;32m      4\u001b[0m \u001b[38;5;66;03m#CCE_sim12\u001b[39;00m\n\u001b[1;32m      6\u001b[0m l,m \u001b[38;5;241m=\u001b[39m spherical_mode \n",
      "\u001b[0;31mNameError\u001b[0m: name 'CCE_sim305' is not defined"
     ]
    }
   ],
   "source": [
    "quadratic_mode = (2,2,0,1,2,-2,0,-1) \n",
    "spherical_mode = (4,0) \n",
    "sim = CCE_sim305\n",
    "#CCE_sim12\n",
    "\n",
    "l,m = spherical_mode \n",
    "lp,mp,nprime,pp,lpp,mpp,npp,ppp = quadratic_mode"
   ]
  },
  {
   "cell_type": "markdown",
   "metadata": {},
   "source": [
    "# Fig. 4 with all frequencies plotted"
   ]
  },
  {
   "cell_type": "code",
   "execution_count": null,
   "metadata": {},
   "outputs": [
    {
     "ename": "NameError",
     "evalue": "name 'l' is not defined",
     "output_type": "error",
     "traceback": [
      "\u001b[0;31m---------------------------------------------------------------------------\u001b[0m",
      "\u001b[0;31mNameError\u001b[0m                                 Traceback (most recent call last)",
      "Cell \u001b[0;32mIn[1], line 1\u001b[0m\n\u001b[0;32m----> 1\u001b[0m model_q \u001b[38;5;241m=\u001b[39m \u001b[43m[\u001b[49m\u001b[43m(\u001b[49m\u001b[43ml\u001b[49m\u001b[43m,\u001b[49m\u001b[43mm\u001b[49m\u001b[43m,\u001b[49m\u001b[43mn\u001b[49m\u001b[43m,\u001b[49m\u001b[38;5;241;43m1\u001b[39;49m\u001b[43m)\u001b[49m\u001b[43m \u001b[49m\u001b[38;5;28;43;01mfor\u001b[39;49;00m\u001b[43m \u001b[49m\u001b[43mn\u001b[49m\u001b[43m \u001b[49m\u001b[38;5;129;43;01min\u001b[39;49;00m\u001b[43m \u001b[49m\u001b[38;5;28;43mrange\u001b[39;49m\u001b[43m(\u001b[49m\u001b[38;5;241;43m2\u001b[39;49m\u001b[38;5;241;43m+\u001b[39;49m\u001b[38;5;241;43m1\u001b[39;49m\u001b[43m)\u001b[49m\u001b[43m]\u001b[49m \u001b[38;5;241m+\u001b[39m [(l,m,n,\u001b[38;5;241m-\u001b[39m\u001b[38;5;241m1\u001b[39m) \u001b[38;5;28;01mfor\u001b[39;00m n \u001b[38;5;129;01min\u001b[39;00m \u001b[38;5;28mrange\u001b[39m(\u001b[38;5;241m2\u001b[39m\u001b[38;5;241m+\u001b[39m\u001b[38;5;241m1\u001b[39m)]\n\u001b[1;32m      3\u001b[0m \u001b[38;5;28mprint\u001b[39m(model_q)\n",
      "Cell \u001b[0;32mIn[1], line 1\u001b[0m, in \u001b[0;36m<listcomp>\u001b[0;34m(.0)\u001b[0m\n\u001b[0;32m----> 1\u001b[0m model_q \u001b[38;5;241m=\u001b[39m [(\u001b[43ml\u001b[49m,m,n,\u001b[38;5;241m1\u001b[39m) \u001b[38;5;28;01mfor\u001b[39;00m n \u001b[38;5;129;01min\u001b[39;00m \u001b[38;5;28mrange\u001b[39m(\u001b[38;5;241m2\u001b[39m\u001b[38;5;241m+\u001b[39m\u001b[38;5;241m1\u001b[39m)] \u001b[38;5;241m+\u001b[39m [(l,m,n,\u001b[38;5;241m-\u001b[39m\u001b[38;5;241m1\u001b[39m) \u001b[38;5;28;01mfor\u001b[39;00m n \u001b[38;5;129;01min\u001b[39;00m \u001b[38;5;28mrange\u001b[39m(\u001b[38;5;241m2\u001b[39m\u001b[38;5;241m+\u001b[39m\u001b[38;5;241m1\u001b[39m)]\n\u001b[1;32m      3\u001b[0m \u001b[38;5;28mprint\u001b[39m(model_q)\n",
      "\u001b[0;31mNameError\u001b[0m: name 'l' is not defined"
     ]
    }
   ],
   "source": [
    "model_q = [(l,m,n,1) for n in range(2+1)] + [(l,m,n,-1) for n in range(2+1)]\n",
    "\n",
    "print(model_q)"
   ]
  },
  {
   "cell_type": "code",
   "execution_count": null,
   "metadata": {},
   "outputs": [],
   "source": [
    "omega_fit_list = []\n",
    "t0_list = np.linspace(-30, 30, 100)\n",
    "\n",
    "for t0 in t0_list:\n",
    "    omega_fit_list.append(qnmfits.free_frequency_fit(\n",
    "        sim.times, \n",
    "        sim.h[l,m], \n",
    "        t0=t0,\n",
    "        modes=model_q,\n",
    "        Mf=sim.Mf,\n",
    "        chif=sim.chif_mag\n",
    "    ))\n",
    "    \n",
    "omega_fit_list = np.array(omega_fit_list)\n",
    "\n",
    "omega_average = np.mean(omega_fit_list, axis=0)"
   ]
  },
  {
   "cell_type": "code",
   "execution_count": null,
   "metadata": {},
   "outputs": [
    {
     "data": {
      "text/plain": [
       "Text(0, 0.5, '$Im(\\\\omega)$')"
      ]
     },
     "execution_count": 165,
     "metadata": {},
     "output_type": "execute_result"
    },
    {
     "data": {
      "image/png": "[encoded data removed]",
      "text/plain": [
       "<Figure size 640x480 with 2 Axes>"
      ]
     },
     "metadata": {},
     "output_type": "display_data"
    }
   ],
   "source": [
    "fig, ax = plt.subplots() \n",
    "#ax.set_xlim(-0.1, 0.1)\n",
    "#ax.set_ylim(-0.35, -0.11)\n",
    "\n",
    "cmap = plt.get_cmap('viridis')\n",
    "min_val = min(t0_list)\n",
    "max_val = max(t0_list)\n",
    "norm = plt.Normalize(min_val, max_val)\n",
    "\n",
    "jitter = 0.05\n",
    "\n",
    "for i, t0 in enumerate(t0_list):\n",
    "    color = cmap(norm(t0))\n",
    "    x_jitter = np.random.normal(0, jitter)\n",
    "    ax.scatter(omega_fit_list[i].real + x_jitter, omega_fit_list[i].imag, color=color, s=5) \n",
    "\n",
    "quadratic_frequency = qnm.omega_list([quadratic_mode], sim.chif_mag, sim.Mf)\n",
    "ax.plot(quadratic_frequency[0].real, quadratic_frequency[0].imag, color='r', marker='x', markersize=30)\n",
    "\n",
    "all_qnms = [(lam,mu,n,p) for lam in np.arange(2, 4+1)\n",
    "                        for mu in np.arange(-lam, lam+1)\n",
    "                           for n in np.arange(0, 2+1)\n",
    "                              for p in (-1, +1)]\n",
    "\n",
    "all_freqs = np.array(qnm.omega_list(all_qnms, sim.chif_mag, sim.Mf))\n",
    "for i, freq in enumerate(all_freqs):\n",
    "    ax.plot(freq.real, freq.imag, color='black', marker='o', markersize=2)\n",
    "\n",
    "#ax.axvline(omega_average.real, linestyle='--', color='black')\n",
    "#ax.axhline(omega_average.imag, linestyle='--', color='black')\n",
    "\n",
    "fig.colorbar(plt.cm.ScalarMappable(norm=norm, cmap=cmap), ax=ax)\n",
    "\n",
    "ax.xaxis.set_label_text(r'$Re(\\omega)$')\n",
    "ax.yaxis.set_label_text(r'$Im(\\omega)$')\n"
   ]
  },
  {
   "cell_type": "code",
   "execution_count": null,
   "metadata": {},
   "outputs": [
    {
     "name": "stdout",
     "output_type": "stream",
     "text": [
      "[-0.17034469156556767j, (0.41342267513964504-0.08885941763860356j), (-0.41342267513964504-0.08885941763860356j), (0.5557819110480493-0.08517234578278383j), (-0.5557819110480493-0.08517234578278383j)]\n"
     ]
    }
   ],
   "source": [
    "test_qnms = [(2,2,0,1,2,-2,0,-1), (2,0,0,1), (2,0,0,-1), (2,2,0,1), (2,-2,0,-1)]\n",
    "\n",
    "test_frequencies = qnm.omega_list(test_qnms, sim.chif_mag, sim.Mf)\n",
    "\n",
    "print(test_frequencies)"
   ]
  },
  {
   "cell_type": "code",
   "execution_count": null,
   "metadata": {},
   "outputs": [],
   "source": []
  }
 ],
 "metadata": {
  "kernelspec": {
   "display_name": "python-3.11-clone",
   "language": "python",
   "name": "python3"
  },
  "language_info": {
   "codemirror_mode": {
    "name": "ipython",
    "version": 3
   },
   "file_extension": ".py",
   "mimetype": "text/x-python",
   "name": "python",
   "nbconvert_exporter": "python",
   "pygments_lexer": "ipython3",
   "version": "3.11.4"
  }
 },
 "nbformat": 4,
 "nbformat_minor": 2
}
