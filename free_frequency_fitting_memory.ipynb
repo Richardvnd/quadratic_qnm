{
 "cells": [
  {
   "cell_type": "markdown",
   "metadata": {},
   "source": [
    "Updated: 20/02/2024\n",
    "\n",
    "This code varies the frequency to fine the one that minimises mismatch across a range of start times. It plots this to check whether frequency hovers around the expected value (for memory modes). "
   ]
  },
  {
   "cell_type": "code",
   "execution_count": 1,
   "metadata": {},
   "outputs": [],
   "source": [
    "import numpy as np\n",
    "import matplotlib.pyplot as plt\n",
    "import qnmfitsrd as qnmfits\n",
    "from multiprocessing import Pool\n",
    "from spatial_reconstruction_tests.spatial_reconstruction import *\n",
    "from matplotlib.animation import FuncAnimation\n",
    "from scipy.interpolate import UnivariateSpline\n",
    "from Visualisation.qnm_vis import * \n",
    "from qnmfitsrd.CCE_file_getter import *\n",
    "import datetime\n",
    "from scipy.optimize import least_squares\n",
    "\n",
    "l_max = 7\n",
    "n_max = 7"
   ]
  },
  {
   "cell_type": "code",
   "execution_count": 2,
   "metadata": {},
   "outputs": [],
   "source": [
    "CCE_sim1 = CCE_to_sim_simplified(sim_num='0001')\n",
    "CCE_sim2 = CCE_to_sim_simplified(sim_num='0002')\n",
    "CCE_sim3 = CCE_to_sim_simplified(sim_num='0003')\n",
    "CCE_sim4 = CCE_to_sim_simplified(sim_num='0004')\n",
    "CCE_sim5 = CCE_to_sim_simplified(sim_num='0005')\n",
    "CCE_sim6 = CCE_to_sim_simplified(sim_num='0006')\n",
    "CCE_sim7 = CCE_to_sim_simplified(sim_num='0007')\n",
    "CCE_sim8 = CCE_to_sim_simplified(sim_num='0008')\n",
    "CCE_sim9 = CCE_to_sim_simplified(sim_num='0009')\n",
    "CCE_sim10 = CCE_to_sim_simplified(sim_num='0010')\n",
    "CCE_sim11 = CCE_to_sim_simplified(sim_num='0011')\n",
    "CCE_sim12 = CCE_to_sim_simplified(sim_num='0012')\n",
    "CCE_sim13 = CCE_to_sim_simplified(sim_num='0013')\n",
    "\n",
    "CCE_sim305 = CCE_to_sim_simplified(sim_num='0305')"
   ]
  },
  {
   "cell_type": "markdown",
   "metadata": {},
   "source": [
    "# Reproducing Fig. 1\n",
    "\n",
    "Note this doesn't use the CCE waveforms.\n",
    "\n",
    "Assume linear model fits to a particular l,m using only the QNM harmonics of that l,m"
   ]
  },
  {
   "cell_type": "code",
   "execution_count": 50,
   "metadata": {},
   "outputs": [],
   "source": [
    "quadratic_mode = (2,2,0,1,2,-2,0,-1) \n",
    "spherical_mode = (2,0) \n",
    "sim = CCE_sim305\n",
    "#CCE_sim12\n",
    "\n",
    "l,m = spherical_mode \n",
    "lp,mp,nprime,pp,lpp,mpp,npp,ppp = quadratic_mode"
   ]
  },
  {
   "cell_type": "markdown",
   "metadata": {},
   "source": [
    "# Fig. 4 with all frequencies plotted"
   ]
  },
  {
   "cell_type": "code",
   "execution_count": 84,
   "metadata": {},
   "outputs": [],
   "source": [
    "model_q = [(l,m,n,1) for n in range(2+1)] + [(l,m,n,-1) for n in range(2+1)]"
   ]
  },
  {
   "cell_type": "code",
   "execution_count": 85,
   "metadata": {},
   "outputs": [],
   "source": [
    "omega_fit_list = []\n",
    "t0_list = np.linspace(0, 30, 100)\n",
    "\n",
    "for t0 in t0_list:\n",
    "    omega_fit_list.append(qnmfits.free_frequency_fit(\n",
    "        sim.times, \n",
    "        sim.h[l,m], \n",
    "        t0=t0,\n",
    "        modes=model_q,\n",
    "        Mf=sim.Mf,\n",
    "        chif=sim.chif_mag\n",
    "    ))\n",
    "    \n",
    "omega_fit_list = np.array(omega_fit_list)"
   ]
  },
  {
   "cell_type": "code",
   "execution_count": 92,
   "metadata": {},
   "outputs": [
    {
     "name": "stdout",
     "output_type": "stream",
     "text": [
      "[-0.17034469156556767j]\n"
     ]
    },
    {
     "data": {
      "text/plain": [
       "<matplotlib.colorbar.Colorbar at 0x7f4f083f7490>"
      ]
     },
     "execution_count": 92,
     "metadata": {},
     "output_type": "execute_result"
    },
    {
     "data": {
      "image/png": "[encoded data removed]",
      "text/plain": [
       "<Figure size 640x480 with 2 Axes>"
      ]
     },
     "metadata": {},
     "output_type": "display_data"
    }
   ],
   "source": [
    "fig, ax = plt.subplots() \n",
    "#ax.set_xlim(-0.1, 0.1)\n",
    "#ax.set_ylim(-0.35, -0.11)\n",
    "\n",
    "cmap = plt.get_cmap('viridis')\n",
    "min_val = min(t0_list)\n",
    "max_val = max(t0_list)\n",
    "norm = plt.Normalize(min_val, max_val)\n",
    "\n",
    "jitter = 0.01\n",
    "\n",
    "for i, t0 in enumerate(t0_list):\n",
    "    color = cmap(norm(t0))\n",
    "    x_jitter = np.random.normal(0, jitter)\n",
    "    ax.scatter(omega_fit_list[i].real + x_jitter, omega_fit_list[i].imag, color=color, s=5) \n",
    "\n",
    "quadratic_frequency = qnm.omega_list([quadratic_mode], sim.chif_mag, sim.Mf)\n",
    "ax.plot(quadratic_frequency[0].real, quadratic_frequency[0].imag, color='r', marker='x', markersize=10)\n",
    "\n",
    "all_qnms = [(lam,mu,n,p) for lam in np.arange(2, 4+1)\n",
    "                        for mu in np.arange(-lam, lam+1)\n",
    "                           for n in np.arange(0, 2+1)\n",
    "                              for p in (-1, +1)]\n",
    "\n",
    "all_freqs = np.array(qnm.omega_list(all_qnms, sim.chif_mag, sim.Mf))\n",
    "for i, freq in enumerate(all_freqs):\n",
    "    ax.plot(freq.real, freq.imag, color='black', marker='o', markersize=2)\n",
    "\n",
    "fig.colorbar(plt.cm.ScalarMappable(norm=norm, cmap=cmap), ax=ax)\n",
    "\n"
   ]
  }
 ],
 "metadata": {
  "kernelspec": {
   "display_name": "python-3.11-clone",
   "language": "python",
   "name": "python3"
  },
  "language_info": {
   "codemirror_mode": {
    "name": "ipython",
    "version": 3
   },
   "file_extension": ".py",
   "mimetype": "text/x-python",
   "name": "python",
   "nbconvert_exporter": "python",
   "pygments_lexer": "ipython3",
   "version": "3.11.4"
  }
 },
 "nbformat": 4,
 "nbformat_minor": 2
}
