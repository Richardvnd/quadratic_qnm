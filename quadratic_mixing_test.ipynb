{
 "cells": [
  {
   "cell_type": "markdown",
   "metadata": {},
   "source": [
    "Updated: 08/02/24\n",
    "\n",
    "workbook to test normalisation of alphas "
   ]
  },
  {
   "cell_type": "code",
   "execution_count": 1,
   "metadata": {},
   "outputs": [],
   "source": [
    "import numpy as np\n",
    "import matplotlib.pyplot as plt\n",
    "import qnmfitsrd as qnmfits\n",
    "from multiprocessing import Pool\n",
    "from spatial_reconstruction_tests.spatial_reconstruction import *\n",
    "from matplotlib.animation import FuncAnimation\n",
    "from scipy.interpolate import UnivariateSpline\n",
    "from Visualisation.qnm_vis import * \n",
    "from qnmfitsrd.CCE_file_getter import *\n",
    "import datetime\n",
    "from scipy.optimize import least_squares\n",
    "\n",
    "l_max = 8\n",
    "n_max = 8"
   ]
  },
  {
   "cell_type": "code",
   "execution_count": 2,
   "metadata": {},
   "outputs": [
    {
     "name": "stdout",
     "output_type": "stream",
     "text": [
      "0.9980192115848097\n"
     ]
    }
   ],
   "source": [
    "spherical_modes = [(2,2)] \n",
    "\n",
    "qnms = [(l,2,0,1) for l in np.arange(2, l_max+1)]\n",
    "\n",
    "indices_lists_l = [[lm_mode+mode for mode in qnms] for lm_mode in spherical_modes]\n",
    "mu_lists = [qnm.mu_list(indices, 0.5) for indices in indices_lists_l]\n",
    "\n",
    "sum = 0 \n",
    "\n",
    "for mu in mu_lists:\n",
    "    sum += abs(mu[0])**2 \n",
    "\n",
    "print(sum)"
   ]
  },
  {
   "cell_type": "code",
   "execution_count": 3,
   "metadata": {},
   "outputs": [
    {
     "ename": "TypeError",
     "evalue": "unsupported operand type(s) for /: 'generator' and 'float'",
     "output_type": "error",
     "traceback": [
      "\u001b[0;31m---------------------------------------------------------------------------\u001b[0m",
      "\u001b[0;31mTypeError\u001b[0m                                 Traceback (most recent call last)",
      "Cell \u001b[0;32mIn[3], line 11\u001b[0m\n\u001b[1;32m      8\u001b[0m \u001b[38;5;28msum\u001b[39m \u001b[38;5;241m=\u001b[39m \u001b[38;5;241m0\u001b[39m \n\u001b[1;32m     10\u001b[0m \u001b[38;5;28;01mfor\u001b[39;00m mu \u001b[38;5;129;01min\u001b[39;00m alpha_lists:\n\u001b[0;32m---> 11\u001b[0m     \u001b[38;5;28msum\u001b[39m \u001b[38;5;241m+\u001b[39m\u001b[38;5;241m=\u001b[39m \u001b[38;5;28mabs\u001b[39m(\u001b[43mmu\u001b[49m\u001b[43m[\u001b[49m\u001b[38;5;241;43m0\u001b[39;49m\u001b[43m]\u001b[49m\u001b[38;5;241;43m/\u001b[39;49m\u001b[38;5;241;43m0.3040612488862902\u001b[39;49m)\u001b[38;5;241m*\u001b[39m\u001b[38;5;241m*\u001b[39m\u001b[38;5;241m2\u001b[39m\n\u001b[1;32m     13\u001b[0m \u001b[38;5;28mprint\u001b[39m(\u001b[38;5;28msum\u001b[39m)\n",
      "\u001b[0;31mTypeError\u001b[0m: unsupported operand type(s) for /: 'generator' and 'float'"
     ]
    }
   ],
   "source": [
    "spherical_modes = [(4,4)] \n",
    "\n",
    "qnms = [(l,2,0,1,lp,2,0,1) for l in np.arange(2, l_max+1) for lp in np.arange(2,l_max+1)]\n",
    "\n",
    "indices_lists_q = [[lm_mode+mode for mode in qnms] for lm_mode in spherical_modes]\n",
    "alpha_lists = [qnm.alpha(indices, 0.5) for indices in indices_lists_q]\n",
    "\n",
    "sum = 0 \n",
    "\n",
    "for mu in alpha_lists:\n",
    "    sum += abs(mu[0])**2\n",
    "\n",
    "print(sum)"
   ]
  }
 ],
 "metadata": {
  "kernelspec": {
   "display_name": "python-3.11-clone",
   "language": "python",
   "name": "python3"
  },
  "language_info": {
   "codemirror_mode": {
    "name": "ipython",
    "version": 3
   },
   "file_extension": ".py",
   "mimetype": "text/x-python",
   "name": "python",
   "nbconvert_exporter": "python",
   "pygments_lexer": "ipython3",
   "version": "3.11.4"
  }
 },
 "nbformat": 4,
 "nbformat_minor": 2
}
