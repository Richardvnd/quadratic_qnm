{
 "cells": [
  {
   "cell_type": "markdown",
   "metadata": {},
   "source": [
    "Updated: 08/02/24\n",
    "\n",
    "workbook to test normalisation of alphas "
   ]
  },
  {
   "cell_type": "code",
   "execution_count": 1,
   "metadata": {},
   "outputs": [],
   "source": [
    "import numpy as np\n",
    "import matplotlib.pyplot as plt\n",
    "import qnmfitsrd as qnmfits\n",
    "from multiprocessing import Pool\n",
    "from spatial_reconstruction_tests.spatial_reconstruction import *\n",
    "from matplotlib.animation import FuncAnimation\n",
    "from scipy.interpolate import UnivariateSpline\n",
    "from Visualisation.qnm_vis import * \n",
    "from qnmfitsrd.CCE_file_getter import *\n",
    "import datetime\n",
    "from scipy.optimize import least_squares\n",
    "\n",
    "l_max = 8\n",
    "n_max = 8"
   ]
  },
  {
   "cell_type": "code",
   "execution_count": 2,
   "metadata": {},
   "outputs": [
    {
     "name": "stdout",
     "output_type": "stream",
     "text": [
      "0.9980192115848097\n"
     ]
    }
   ],
   "source": [
    "spherical_modes = [(2,2)] \n",
    "\n",
    "qnms = [(l,2,0,1) for l in np.arange(2, l_max+1)]\n",
    "\n",
    "indices_lists_l = [[lm_mode+mode for mode in qnms] for lm_mode in spherical_modes]\n",
    "mu_lists = [qnm.mu_list(indices, 0.5) for indices in indices_lists_l]\n",
    "\n",
    "sum = 0 \n",
    "\n",
    "for mu in mu_lists:\n",
    "    sum += abs(mu[0])**2 \n",
    "\n",
    "print(sum)"
   ]
  },
  {
   "cell_type": "code",
   "execution_count": 4,
   "metadata": {},
   "outputs": [
    {
     "name": "stdout",
     "output_type": "stream",
     "text": [
      "1.0000000000000009\n"
     ]
    }
   ],
   "source": [
    "spherical_modes = [(4,4)] \n",
    "\n",
    "qnms = [(l,2,0,1,lp,2,0,1) for l in np.arange(2, l_max+1) for lp in np.arange(2,l_max+1)]\n",
    "\n",
    "indices_lists_q = [[lm_mode+mode for mode in qnms] for lm_mode in spherical_modes]\n",
    "alpha_lists = [qnm.alpha(indices, 0.5) for indices in indices_lists_q]\n",
    "\n",
    "sum = 0 \n",
    "\n",
    "for mu in alpha_lists:\n",
    "    sum += abs(mu[0])**2\n",
    "\n",
    "print(sum)"
   ]
  }
 ],
 "metadata": {
  "kernelspec": {
   "display_name": "python-3.11-clone",
   "language": "python",
   "name": "python3"
  },
  "language_info": {
   "codemirror_mode": {
    "name": "ipython",
    "version": 3
   },
   "file_extension": ".py",
   "mimetype": "text/x-python",
   "name": "python",
   "nbconvert_exporter": "python",
   "pygments_lexer": "ipython3",
   "version": "3.11.4"
  }
 },
 "nbformat": 4,
 "nbformat_minor": 2
}
