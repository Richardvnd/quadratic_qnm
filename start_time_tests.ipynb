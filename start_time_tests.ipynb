{
 "cells": [
  {
   "cell_type": "markdown",
   "metadata": {},
   "source": [
    "Updated: 07/02/24\n",
    "\n",
    "This workbook looks at different methods to determine start times and, in particular, compares the start times of harmonics and quadratics compared to fundamental linear modes.\n"
   ]
  },
  {
   "cell_type": "code",
   "execution_count": null,
   "metadata": {
    "vscode": {
     "languageId": "plaintext"
    }
   },
   "outputs": [],
   "source": [
    "import numpy as np\n",
    "import matplotlib.pyplot as plt\n",
    "import qnmfitsrd as qnmfits\n",
    "from multiprocessing import Pool\n",
    "from spatial_reconstruction_tests.spatial_reconstruction import *\n",
    "from matplotlib.animation import FuncAnimation\n",
    "from scipy.interpolate import UnivariateSpline\n",
    "from Visualisation.qnm_vis import * \n",
    "from qnmfitsrd.CCE_file_getter import *\n",
    "import datetime\n",
    "from scipy.optimize import least_squares\n",
    "\n",
    "l_max = 5\n",
    "n_max = 5"
   ]
  },
  {
   "cell_type": "code",
   "execution_count": null,
   "metadata": {
    "vscode": {
     "languageId": "plaintext"
    }
   },
   "outputs": [],
   "source": [
    "CCE_sim305 = CCE_to_sim_simplified(sim_num='0305')"
   ]
  },
  {
   "cell_type": "markdown",
   "metadata": {},
   "source": [
    "TODO: use spatial mismatch as this gives a way to look at when individual modes kick in? How to do this with conventional mismatch? "
   ]
  }
 ],
 "metadata": {
  "language_info": {
   "name": "python"
  }
 },
 "nbformat": 4,
 "nbformat_minor": 2
}
