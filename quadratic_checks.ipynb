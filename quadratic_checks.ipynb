{
 "cells": [
  {
   "cell_type": "markdown",
   "metadata": {},
   "source": [
    "Updated: 05/02/24\n",
    "\n",
    "The purpose of this workbook is to provide several additional tests (beyond mitman & cheung workbooks) of quadratic modes in the ringdown. \n"
   ]
  },
  {
   "cell_type": "markdown",
   "metadata": {},
   "source": [
    "### Tests in this workbook\n",
    "\n",
    "1. Do the fits independently in (l,m) modes and check for amplitude ratio consistency.  \n",
    "2. Do the fits at different CCE levels and look for consistency. \n",
    "\n",
    "\n",
    "Tests (other)\n",
    "\n",
    "1. Plot the mismatch at different times during the ringdown ($t_0$) with and without the quadratic mode. This can be done for a single (l,m) or the full data. \n",
    "2. Plot the amplitude of the quadratic mode at different times during the ringdown ($t_0$). If it is really there it should decay in line with the decay time. \n",
    "3. Plot the quadratic amplitude [for (2,2,0,1)x(2,2,0,1)] against the linear amplitude (2,2,0,1) for a number of different simulations and look for quadratic scaling compared to the amplitude of the (4,4,0,1) mode, which shouldn't have the same relationship (see Mitman et al.).\n",
    "5. Let the frequency vary for the quadratic mode in the model and plot the mismatch.\n",
    "7. Try fits with (2,2,0,1)x(2,2,0,1) and (2,-2,0,-1)x(2,-2,0,-1). These should be mirror images, however noise may not be mirrored (though, it may be). "
   ]
  },
  {
   "cell_type": "code",
   "execution_count": 3,
   "metadata": {},
   "outputs": [],
   "source": [
    "import numpy as np\n",
    "import matplotlib.pyplot as plt\n",
    "import qnmfitsrd as qnmfits\n",
    "from multiprocessing import Pool\n",
    "from spatial_reconstruction_tests.spatial_reconstruction import *\n",
    "from matplotlib.animation import FuncAnimation\n",
    "from scipy.interpolate import UnivariateSpline\n",
    "from Visualisation.qnm_vis import * \n",
    "from qnmfitsrd.CCE_file_getter import *\n",
    "import datetime\n",
    "from scipy.optimize import least_squares\n",
    "\n",
    "l_max = 5\n",
    "n_max = 5"
   ]
  },
  {
   "cell_type": "code",
   "execution_count": 4,
   "metadata": {},
   "outputs": [],
   "source": [
    "CCE_sim1 = CCE_to_sim_simplified(sim_num='0001')\n",
    "CCE_sim2 = CCE_to_sim_simplified(sim_num='0002')\n",
    "CCE_sim3 = CCE_to_sim_simplified(sim_num='0003')\n",
    "CCE_sim4 = CCE_to_sim_simplified(sim_num='0004')\n",
    "CCE_sim5 = CCE_to_sim_simplified(sim_num='0005')\n",
    "CCE_sim6 = CCE_to_sim_simplified(sim_num='0006')\n",
    "CCE_sim7 = CCE_to_sim_simplified(sim_num='0007')\n",
    "CCE_sim8 = CCE_to_sim_simplified(sim_num='0008')\n",
    "CCE_sim9 = CCE_to_sim_simplified(sim_num='0009')\n",
    "CCE_sim10 = CCE_to_sim_simplified(sim_num='0010')\n",
    "CCE_sim11 = CCE_to_sim_simplified(sim_num='0011')\n",
    "CCE_sim12 = CCE_to_sim_simplified(sim_num='0012')\n",
    "CCE_sim13 = CCE_to_sim_simplified(sim_num='0013')\n",
    "\n",
    "CCE_sim305 = CCE_to_sim_simplified(sim_num='0305')"
   ]
  },
  {
   "cell_type": "code",
   "execution_count": 43,
   "metadata": {},
   "outputs": [
    {
     "name": "stdout",
     "output_type": "stream",
     "text": [
      "{'simulation_name': 'BBH_SKS_d14.3_q1.22_sA_0_0_0.330_sB_0_0_-0.440/Lev6', 'alternative_names': ['PRIVATE:BBH:0225', 'SXS:BBH:0305'], 'initial_data_type': 'BBH_SKS', 'object_types': 'BHBH', 'number_of_orbits': 15.168887885, 'reference_mass_ratio': 1.2212026034520165, 'reference_chi_eff': -0.0166486688481975, 'reference_chi1_perp': 3.352575606023737e-08, 'reference_chi2_perp': 6.555433639961451e-08, 'reference_eccentricity': 0.0008382, 'reference_dimensionless_spin1': [3.41456411037e-08, -4.09141073094e-08, 0.329976580046], 'reference_dimensionless_spin2': [3.75379590194e-08, 3.17672731622e-08, -0.43994832522], 'reference_orbital_frequency': [1.05119123869e-09, -5.9266081495e-10, 0.0179961458572], 'reference_mass1': 0.549802229834, 'reference_mass2': 0.450213771474, 'reference_time': 540.0, 'reference_position1': [-6.46530157405, -0.386662502327, -8.5250406227e-06], 'reference_position2': [7.94532387193, 0.388267452553, -9.34127387124e-06], 'reference_mean_anomaly': 3.765934, 'keywords': [], 'point_of_contact_email': 'glovelace@fullerton.edu', 'authors_emails': [], 'simulation_bibtex_keys': ['Lovelace:2016uwp', 'Boyle:2019kee', 'SXSCatalogWebsite'], 'code_bibtex_keys': ['Ossokine:2013zga', 'Hemberger:2012jz', 'Szilagyi:2009qz', 'Boyle:2009vi', 'Scheel:2008rj', 'Boyle:2007ft', 'Scheel:2006gg', 'Lindblom:2005qh', 'Pfeiffer:2002wt', 'SpECwebsite'], 'initial_data_bibtex_keys': ['Buchman:2012dw', 'Lovelace:2008tw', 'Pfeiffer:2007yz', 'Caudill:2006hw', 'Cook:2004kt'], 'quasicircular_bibtex_keys': ['Mroue:2012kv', 'Buonanno:2010yk', 'Mroue:2010re', 'Boyle:2007ft'], 'initial_separation': 14.2600708008, 'initial_orbital_frequency': 0.016961605632, 'initial_adot': -5.30625362797e-05, 'object1': 'bh', 'object2': 'bh', 'initial_ADM_energy': 0.9923541855108845, 'initial_ADM_linear_momentum': [-5.04414e-11, 1.116714e-10, 5.9e-14], 'initial_ADM_angular_momentum': [3.385e-13, -1.0649e-12, 1.0829620209826503], 'initial_mass1': 0.5497953688701543, 'initial_mass2': 0.450204644189637, 'initial_dimensionless_spin1': [3.2772e-12, -9.165e-13, 0.330000004123], 'initial_dimensionless_spin2': [-2.778e-13, -1.44e-13, -0.440000004931], 'initial_position1': [6.400366822763947, -0.033533468088406, 0.0], 'initial_position2': [-7.859703978036053, -0.033533468088406, 0.0], 'relaxation_time': 540.0, 'common_horizon_time': 3685.49626787, 'remnant_mass': 0.952032939704, 'remnant_dimensionless_spin': [5.25395868351e-08, -2.45673365593e-08, 0.692085186818], 'remnant_velocity': [-0.000297055913076, -0.000334747685807, -2.23049871826e-08], 'metadata_version': 1, 'spec_revisions': 'InitialCommit-28919-g494efa8', 'spells_revision': '494efa8ee6f36754793562d8b9405f1650bbd3e0', 'com_parameters': {'space_translation': [-0.000157648855, -0.0381182374, 3.21417134e-06], 'boost_velocity': [-3.81713812e-07, 5.07850704e-06, -2.25136206e-08]}, 'initial_mass_ratio': 1.2212121220112677}\n"
     ]
    }
   ],
   "source": [
    "print(CCE_sim305.metadata)"
   ]
  },
  {
   "cell_type": "code",
   "execution_count": 5,
   "metadata": {},
   "outputs": [
    {
     "name": "stderr",
     "output_type": "stream",
     "text": [
      "/data/rvnd2/python_envs/python-3.11-clone/lib/python3.11/site-packages/tqdm/auto.py:21: TqdmWarning: IProgress not found. Please update jupyter and ipywidgets. See https://ipywidgets.readthedocs.io/en/stable/user_install.html\n",
      "  from .autonotebook import tqdm as notebook_tqdm\n"
     ]
    },
    {
     "name": "stdout",
     "output_type": "stream",
     "text": [
      "Skipping download from 'https://data.black-holes.org/catalog.json' because local file is newer\n",
      "Found the following files to load from the SXS catalog:\n",
      "    SXS:BBH:1502v5/Lev3/metadata.json\n",
      "Found the following files to load from the SXS catalog:\n",
      "    SXS:BBH:1502v5/Lev3/rhOverM_Asymptotic_GeometricUnits_CoM.h5\n",
      "Downloading to /tmp/sxs-__q6k7x3/cache/SXS:BBH:1502v2/Lev3/rhOverM_Asymptotic_GeometricUnits_CoM.h5:\n"
     ]
    },
    {
     "name": "stderr",
     "output_type": "stream",
     "text": [
      "100%|██████████| 83.0M/83.0M [00:14<00:00, 6.13MB/s]\n"
     ]
    },
    {
     "name": "stdout",
     "output_type": "stream",
     "text": [
      "Found the following files to load from the SXS catalog:\n",
      "    SXS:BBH:1476v5/Lev3/metadata.json\n",
      "Found the following files to load from the SXS catalog:\n",
      "    SXS:BBH:1476v5/Lev3/rhOverM_Asymptotic_GeometricUnits_CoM.h5\n",
      "Downloading to /tmp/sxs-__q6k7x3/cache/SXS:BBH:1476v2/Lev3/rhOverM_Asymptotic_GeometricUnits_CoM.h5:\n"
     ]
    },
    {
     "name": "stderr",
     "output_type": "stream",
     "text": [
      "100%|██████████| 80.4M/80.4M [00:13<00:00, 6.13MB/s]\n"
     ]
    },
    {
     "name": "stdout",
     "output_type": "stream",
     "text": [
      "Found the following files to load from the SXS catalog:\n",
      "    SXS:BBH:1506v5/Lev3/metadata.json\n",
      "Found the following files to load from the SXS catalog:\n",
      "    SXS:BBH:1506v5/Lev3/rhOverM_Asymptotic_GeometricUnits_CoM.h5\n",
      "Downloading to /tmp/sxs-__q6k7x3/cache/SXS:BBH:1506v2/Lev3/rhOverM_Asymptotic_GeometricUnits_CoM.h5:\n"
     ]
    },
    {
     "name": "stderr",
     "output_type": "stream",
     "text": [
      "100%|██████████| 82.8M/82.8M [00:13<00:00, 6.51MB/s]\n"
     ]
    },
    {
     "name": "stdout",
     "output_type": "stream",
     "text": [
      "Found the following files to load from the SXS catalog:\n",
      "    SXS:BBH:1508v5/Lev3/metadata.json\n",
      "Found the following files to load from the SXS catalog:\n",
      "    SXS:BBH:1508v5/Lev3/rhOverM_Asymptotic_GeometricUnits_CoM.h5\n",
      "Downloading to /tmp/sxs-__q6k7x3/cache/SXS:BBH:1508v2/Lev3/rhOverM_Asymptotic_GeometricUnits_CoM.h5:\n"
     ]
    },
    {
     "name": "stderr",
     "output_type": "stream",
     "text": [
      "100%|██████████| 83.7M/83.7M [00:13<00:00, 6.61MB/s]\n"
     ]
    },
    {
     "name": "stdout",
     "output_type": "stream",
     "text": [
      "Found the following files to load from the SXS catalog:\n",
      "    SXS:BBH:1474v5/Lev3/metadata.json\n",
      "Found the following files to load from the SXS catalog:\n",
      "    SXS:BBH:1474v5/Lev3/rhOverM_Asymptotic_GeometricUnits_CoM.h5\n",
      "Downloading to /tmp/sxs-__q6k7x3/cache/SXS:BBH:1474v2/Lev3/rhOverM_Asymptotic_GeometricUnits_CoM.h5:\n"
     ]
    },
    {
     "name": "stderr",
     "output_type": "stream",
     "text": [
      "100%|██████████| 81.5M/81.5M [00:13<00:00, 6.44MB/s]\n"
     ]
    },
    {
     "name": "stdout",
     "output_type": "stream",
     "text": [
      "Found the following files to load from the SXS catalog:\n",
      "    SXS:BBH:1505v5/Lev3/metadata.json\n",
      "Found the following files to load from the SXS catalog:\n",
      "    SXS:BBH:1505v5/Lev3/rhOverM_Asymptotic_GeometricUnits_CoM.h5\n",
      "Downloading to /tmp/sxs-__q6k7x3/cache/SXS:BBH:1505v2/Lev3/rhOverM_Asymptotic_GeometricUnits_CoM.h5:\n"
     ]
    },
    {
     "name": "stderr",
     "output_type": "stream",
     "text": [
      "100%|██████████| 83.3M/83.3M [00:13<00:00, 6.69MB/s]\n"
     ]
    },
    {
     "name": "stdout",
     "output_type": "stream",
     "text": [
      "Found the following files to load from the SXS catalog:\n",
      "    SXS:BBH:1504v5/Lev3/metadata.json\n",
      "Found the following files to load from the SXS catalog:\n",
      "    SXS:BBH:1504v5/Lev3/rhOverM_Asymptotic_GeometricUnits_CoM.h5\n",
      "Downloading to /tmp/sxs-__q6k7x3/cache/SXS:BBH:1504v2/Lev3/rhOverM_Asymptotic_GeometricUnits_CoM.h5:\n"
     ]
    },
    {
     "name": "stderr",
     "output_type": "stream",
     "text": [
      "100%|██████████| 84.4M/84.4M [00:13<00:00, 6.58MB/s]\n"
     ]
    },
    {
     "name": "stdout",
     "output_type": "stream",
     "text": [
      "Found the following files to load from the SXS catalog:\n",
      "    SXS:BBH:1485v5/Lev3/metadata.json\n",
      "Found the following files to load from the SXS catalog:\n",
      "    SXS:BBH:1485v5/Lev3/rhOverM_Asymptotic_GeometricUnits_CoM.h5\n",
      "Downloading to /tmp/sxs-__q6k7x3/cache/SXS:BBH:1485v2/Lev3/rhOverM_Asymptotic_GeometricUnits_CoM.h5:\n"
     ]
    },
    {
     "name": "stderr",
     "output_type": "stream",
     "text": [
      "100%|██████████| 84.8M/84.8M [00:13<00:00, 6.64MB/s]\n"
     ]
    },
    {
     "name": "stdout",
     "output_type": "stream",
     "text": [
      "Found the following files to load from the SXS catalog:\n",
      "    SXS:BBH:1486v5/Lev3/metadata.json\n",
      "Found the following files to load from the SXS catalog:\n",
      "    SXS:BBH:1486v5/Lev3/rhOverM_Asymptotic_GeometricUnits_CoM.h5\n",
      "Downloading to /tmp/sxs-__q6k7x3/cache/SXS:BBH:1486v2/Lev3/rhOverM_Asymptotic_GeometricUnits_CoM.h5:\n"
     ]
    },
    {
     "name": "stderr",
     "output_type": "stream",
     "text": [
      "100%|██████████| 86.5M/86.5M [00:14<00:00, 6.21MB/s]\n"
     ]
    },
    {
     "name": "stdout",
     "output_type": "stream",
     "text": [
      "Found the following files to load from the SXS catalog:\n",
      "    SXS:BBH:1441v5/Lev3/metadata.json\n",
      "Found the following files to load from the SXS catalog:\n",
      "    SXS:BBH:1441v5/Lev3/rhOverM_Asymptotic_GeometricUnits_CoM.h5\n",
      "Downloading to /tmp/sxs-__q6k7x3/cache/SXS:BBH:1441v2/Lev3/rhOverM_Asymptotic_GeometricUnits_CoM.h5:\n"
     ]
    },
    {
     "name": "stderr",
     "output_type": "stream",
     "text": [
      "100%|██████████| 96.0M/96.0M [00:15<00:00, 6.69MB/s]\n"
     ]
    },
    {
     "name": "stdout",
     "output_type": "stream",
     "text": [
      "Found the following files to load from the SXS catalog:\n",
      "    SXS:BBH:1500v5/Lev3/metadata.json\n",
      "Found the following files to load from the SXS catalog:\n",
      "    SXS:BBH:1500v5/Lev3/rhOverM_Asymptotic_GeometricUnits_CoM.h5\n",
      "Downloading to /tmp/sxs-__q6k7x3/cache/SXS:BBH:1500v2/Lev3/rhOverM_Asymptotic_GeometricUnits_CoM.h5:\n"
     ]
    },
    {
     "name": "stderr",
     "output_type": "stream",
     "text": [
      "100%|██████████| 79.7M/79.7M [00:13<00:00, 6.25MB/s]\n"
     ]
    },
    {
     "name": "stdout",
     "output_type": "stream",
     "text": [
      "Found the following files to load from the SXS catalog:\n",
      "    SXS:BBH:1492v5/Lev3/metadata.json\n",
      "Found the following files to load from the SXS catalog:\n",
      "    SXS:BBH:1492v5/Lev3/rhOverM_Asymptotic_GeometricUnits_CoM.h5\n",
      "Downloading to /tmp/sxs-__q6k7x3/cache/SXS:BBH:1492v2/Lev3/rhOverM_Asymptotic_GeometricUnits_CoM.h5:\n"
     ]
    },
    {
     "name": "stderr",
     "output_type": "stream",
     "text": [
      "100%|██████████| 78.5M/78.5M [00:12<00:00, 6.43MB/s]\n"
     ]
    },
    {
     "name": "stdout",
     "output_type": "stream",
     "text": [
      "Found the following files to load from the SXS catalog:\n",
      "    SXS:BBH:1465v5/Lev3/metadata.json\n",
      "Found the following files to load from the SXS catalog:\n",
      "    SXS:BBH:1465v5/Lev3/rhOverM_Asymptotic_GeometricUnits_CoM.h5\n",
      "Downloading to /tmp/sxs-__q6k7x3/cache/SXS:BBH:1465v2/Lev3/rhOverM_Asymptotic_GeometricUnits_CoM.h5:\n"
     ]
    },
    {
     "name": "stderr",
     "output_type": "stream",
     "text": [
      "100%|██████████| 78.6M/78.6M [00:12<00:00, 6.40MB/s]\n"
     ]
    },
    {
     "name": "stdout",
     "output_type": "stream",
     "text": [
      "Found the following files to load from the SXS catalog:\n",
      "    SXS:BBH:1458v5/Lev3/metadata.json\n",
      "Found the following files to load from the SXS catalog:\n",
      "    SXS:BBH:1458v5/Lev3/rhOverM_Asymptotic_GeometricUnits_CoM.h5\n",
      "Downloading to /tmp/sxs-__q6k7x3/cache/SXS:BBH:1458v2/Lev3/rhOverM_Asymptotic_GeometricUnits_CoM.h5:\n"
     ]
    },
    {
     "name": "stderr",
     "output_type": "stream",
     "text": [
      "100%|██████████| 80.8M/80.8M [00:12<00:00, 6.54MB/s]\n"
     ]
    },
    {
     "name": "stdout",
     "output_type": "stream",
     "text": [
      "Found the following files to load from the SXS catalog:\n",
      "    SXS:BBH:1438v5/Lev3/metadata.json\n",
      "Found the following files to load from the SXS catalog:\n",
      "    SXS:BBH:1438v5/Lev3/rhOverM_Asymptotic_GeometricUnits_CoM.h5\n",
      "Downloading to /tmp/sxs-__q6k7x3/cache/SXS:BBH:1438v2/Lev3/rhOverM_Asymptotic_GeometricUnits_CoM.h5:\n"
     ]
    },
    {
     "name": "stderr",
     "output_type": "stream",
     "text": [
      "100%|██████████| 85.1M/85.1M [00:13<00:00, 6.46MB/s]\n"
     ]
    },
    {
     "name": "stdout",
     "output_type": "stream",
     "text": [
      "Found the following files to load from the SXS catalog:\n",
      "    SXS:BBH:1430v5/Lev3/metadata.json\n",
      "Found the following files to load from the SXS catalog:\n",
      "    SXS:BBH:1430v5/Lev3/rhOverM_Asymptotic_GeometricUnits_CoM.h5\n",
      "Downloading to /tmp/sxs-__q6k7x3/cache/SXS:BBH:1430v2/Lev3/rhOverM_Asymptotic_GeometricUnits_CoM.h5:\n"
     ]
    },
    {
     "name": "stderr",
     "output_type": "stream",
     "text": [
      "100%|██████████| 88.3M/88.3M [00:14<00:00, 6.36MB/s]\n"
     ]
    }
   ],
   "source": [
    "sim_1502 = qnmfits.SXS(ID=1502, zero_time=(2,2))\n",
    "sim_1476 = qnmfits.SXS(ID=1476, zero_time=(2,2))\n",
    "sim_1506 = qnmfits.SXS(ID=1506, zero_time=(2,2))\n",
    "sim_1508 = qnmfits.SXS(ID=1508, zero_time=(2,2))\n",
    "sim_1474 = qnmfits.SXS(ID=1474, zero_time=(2,2))\n",
    "sim_1505 = qnmfits.SXS(ID=1505, zero_time=(2,2))\n",
    "sim_1504 = qnmfits.SXS(ID=1504, zero_time=(2,2))\n",
    "sim_1485 = qnmfits.SXS(ID=1485, zero_time=(2,2))\n",
    "sim_1486 = qnmfits.SXS(ID=1486, zero_time=(2,2))\n",
    "sim_1441 = qnmfits.SXS(ID=1441, zero_time=(2,2))\n",
    "sim_1500 = qnmfits.SXS(ID=1500, zero_time=(2,2))\n",
    "sim_1492 = qnmfits.SXS(ID=1492, zero_time=(2,2))\n",
    "sim_1465 = qnmfits.SXS(ID=1465, zero_time=(2,2))\n",
    "sim_1458 = qnmfits.SXS(ID=1458, zero_time=(2,2))\n",
    "sim_1438 = qnmfits.SXS(ID=1438, zero_time=(2,2))\n",
    "sim_1430 = qnmfits.SXS(ID=1430, zero_time=(2,2))"
   ]
  },
  {
   "cell_type": "markdown",
   "metadata": {},
   "source": [
    "# Amplitude ratios\n",
    "\n",
    "Linear case"
   ]
  },
  {
   "cell_type": "code",
   "execution_count": 42,
   "metadata": {},
   "outputs": [
    {
     "name": "stdout",
     "output_type": "stream",
     "text": [
      "Ratio of 22 to 32\n",
      "Amplitudes:  14.206749598142537\n",
      "Mixing coefficients:  14.292870121829791\n",
      "Ratio of 22 to 42\n",
      "Amplitudes:  263.39609685900086\n",
      "Mixing coefficients:  264.01094252780905\n"
     ]
    }
   ],
   "source": [
    "sim = CCE_sim305\n",
    "\n",
    "t0 = 0\n",
    "\n",
    "model_l1 = [(2,2,n,1) for n in range(2+1)] + [(3,2,n,1) for n in range(2+1)] + [(4,2,n,1) for n in range(2+1)] \n",
    "\n",
    "index_220 = model_l1.index((2,2,0,1))\n",
    "\n",
    "best_fit_22 = qnmfits.ringdown_fit(\n",
    "    sim.times,\n",
    "    sim.h[2,2],\n",
    "    model_l1,\n",
    "    Mf=sim.Mf,\n",
    "    chif=sim.chif_mag,\n",
    "    t0=t0,\n",
    ")\n",
    "\n",
    "best_fit_32 = qnmfits.ringdown_fit(\n",
    "    sim.times,\n",
    "    sim.h[3,2],\n",
    "    model_l1,\n",
    "    Mf=sim.Mf,\n",
    "    chif=sim.chif_mag,\n",
    "    t0=t0,\n",
    ")\n",
    "\n",
    "best_fit_42 = qnmfits.ringdown_fit(\n",
    "    sim.times,\n",
    "    sim.h[4,2],\n",
    "    model_l1,\n",
    "    Mf=sim.Mf,\n",
    "    chif=sim.chif_mag,\n",
    "    t0=t0,\n",
    ")\n",
    "\n",
    "c_220_22 = abs(best_fit_22['C'][index_220])\n",
    "c_220_32 = abs(best_fit_32['C'][index_220])\n",
    "c_220_42 = abs(best_fit_42['C'][index_220])\n",
    "\n",
    "spherical_modes = [(2,2), (3,2), (4,2)]\n",
    "\n",
    "indices_lists_l = [[lm_mode+mode for mode in [(2,2,0,1)]] for lm_mode in spherical_modes]\n",
    "mu_lists = [qnm.mu_list(indices, sim.chif_mag) for indices in indices_lists_l]\n",
    "\n",
    "print(\"Ratio of 22 to 32\")\n",
    "print(\"Amplitudes: \", c_220_22/c_220_32)\n",
    "print(\"Mixing coefficients: \", abs(mu_lists[0][0]/mu_lists[1][0]))\n",
    "\n",
    "print(\"Ratio of 22 to 42\")\n",
    "print(\"Amplitudes: \", c_220_22/c_220_42)\n",
    "print(\"Mixing coefficients: \", abs(mu_lists[0][0]/mu_lists[2][0]))\n",
    "\n",
    "\n"
   ]
  },
  {
   "cell_type": "code",
   "execution_count": 41,
   "metadata": {},
   "outputs": [
    {
     "name": "stdout",
     "output_type": "stream",
     "text": [
      "Ratio of 44 to 54\n",
      "Amplitudes:  8.373504394248371\n",
      "Mixing coefficients:  1.2100321881914708\n",
      "Ratio of 44 to 64\n",
      "Amplitudes:  17.349129627752795\n",
      "Mixing coefficients:  1.659391443751505\n"
     ]
    }
   ],
   "source": [
    "sim = CCE_sim305\n",
    "\n",
    "t0 = 20\n",
    "\n",
    "model_l1 = [(4,4,n,1) for n in range(2+1)] + [(5,4,n,1) for n in range(2+1)] + [(6,4,n,1) for n in range(2+1)] + [(2,2,0,1,2,2,0,1)]\n",
    "\n",
    "index_220220 = model_l1.index((2,2,0,1,2,2,0,1))\n",
    "\n",
    "best_fit_22 = qnmfits.ringdown_fit(\n",
    "    sim.times,\n",
    "    sim.h[4,4],\n",
    "    model_l1,\n",
    "    Mf=sim.Mf,\n",
    "    chif=sim.chif_mag,\n",
    "    t0=t0,\n",
    ")\n",
    "\n",
    "best_fit_32 = qnmfits.ringdown_fit(\n",
    "    sim.times,\n",
    "    sim.h[5,4],\n",
    "    model_l1,\n",
    "    Mf=sim.Mf,\n",
    "    chif=sim.chif_mag,\n",
    "    t0=t0,\n",
    ")\n",
    "\n",
    "best_fit_42 = qnmfits.ringdown_fit(\n",
    "    sim.times,\n",
    "    sim.h[6,4],\n",
    "    model_l1,\n",
    "    Mf=sim.Mf,\n",
    "    chif=sim.chif_mag,\n",
    "    t0=t0,\n",
    ")\n",
    "\n",
    "c_220220_44 = abs(best_fit_22['C'][index_220220])\n",
    "c_220220_54 = abs(best_fit_32['C'][index_220220])\n",
    "c_220220_64 = abs(best_fit_42['C'][index_220220])\n",
    "\n",
    "spherical_modes = [(4,4), (5,4), (6,4)]\n",
    "\n",
    "indices_lists_q = [[lm_mode+mode for mode in [(2,2,0,1,2,2,0,1)]] for lm_mode in spherical_modes]\n",
    "alpha_lists = [qnm.alpha(indices, sim.chif_mag) for indices in indices_lists_q]\n",
    "\n",
    "print(\"Ratio of 44 to 54\")\n",
    "print(\"Amplitudes: \", c_220220_44/c_220220_54)\n",
    "print(\"Mixing coefficients: \", abs(alpha_lists[0][0]/alpha_lists[1][0]))\n",
    "\n",
    "print(\"Ratio of 44 to 64\")\n",
    "print(\"Amplitudes: \", c_220220_44/c_220220_64)\n",
    "print(\"Mixing coefficients: \", abs(alpha_lists[0][0]/alpha_lists[2][0]))\n"
   ]
  }
 ],
 "metadata": {
  "kernelspec": {
   "display_name": "python-3.11-clone",
   "language": "python",
   "name": "python3"
  },
  "language_info": {
   "codemirror_mode": {
    "name": "ipython",
    "version": 3
   },
   "file_extension": ".py",
   "mimetype": "text/x-python",
   "name": "python",
   "nbconvert_exporter": "python",
   "pygments_lexer": "ipython3",
   "version": "3.11.4"
  }
 },
 "nbformat": 4,
 "nbformat_minor": 2
}
