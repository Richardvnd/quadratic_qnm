{
 "cells": [
  {
   "cell_type": "markdown",
   "metadata": {},
   "source": [
    "Updated: 05/02/24\n",
    "\n",
    "The purpose of this workbook is to provide several additional tests (beyond mitman & cheung workbooks) of quadratic modes in the ringdown. \n"
   ]
  },
  {
   "cell_type": "markdown",
   "metadata": {},
   "source": [
    "### Tests in this workbook\n",
    "\n",
    "1. Do the fits independently in (l,m) modes and check for amplitude ratio consistency.  \n",
    "2. Do the fits at different CCE levels and look for consistency. \n",
    "\n",
    "\n",
    "Tests (other)\n",
    "\n",
    "1. Plot the mismatch at different times during the ringdown ($t_0$) with and without the quadratic mode. This can be done for a single (l,m) or the full data. \n",
    "2. Plot the amplitude of the quadratic mode at different times during the ringdown ($t_0$). If it is really there it should decay in line with the decay time. \n",
    "3. Plot the quadratic amplitude [for (2,2,0,1)x(2,2,0,1)] against the linear amplitude (2,2,0,1) for a number of different simulations and look for quadratic scaling compared to the amplitude of the (4,4,0,1) mode, which shouldn't have the same relationship (see Mitman et al.).\n",
    "5. Let the frequency vary for the quadratic mode in the model and plot the mismatch.\n",
    "7. Try fits with (2,2,0,1)x(2,2,0,1) and (2,-2,0,-1)x(2,-2,0,-1). These should be mirror images, however noise may not be mirrored (though, it may be). "
   ]
  },
  {
   "cell_type": "code",
   "execution_count": 3,
   "metadata": {},
   "outputs": [],
   "source": [
    "import numpy as np\n",
    "import matplotlib.pyplot as plt\n",
    "import qnmfitsrd as qnmfits\n",
    "from multiprocessing import Pool\n",
    "from spatial_reconstruction_tests.spatial_reconstruction import *\n",
    "from matplotlib.animation import FuncAnimation\n",
    "from scipy.interpolate import UnivariateSpline\n",
    "from Visualisation.qnm_vis import * \n",
    "from qnmfitsrd.CCE_file_getter import *\n",
    "import datetime\n",
    "from scipy.optimize import least_squares\n",
    "\n",
    "l_max = 5\n",
    "n_max = 5"
   ]
  },
  {
   "cell_type": "code",
   "execution_count": 4,
   "metadata": {},
   "outputs": [],
   "source": [
    "CCE_sim1 = CCE_to_sim_simplified(sim_num='0001')\n",
    "CCE_sim2 = CCE_to_sim_simplified(sim_num='0002')\n",
    "CCE_sim3 = CCE_to_sim_simplified(sim_num='0003')\n",
    "CCE_sim4 = CCE_to_sim_simplified(sim_num='0004')\n",
    "CCE_sim5 = CCE_to_sim_simplified(sim_num='0005')\n",
    "CCE_sim6 = CCE_to_sim_simplified(sim_num='0006')\n",
    "CCE_sim7 = CCE_to_sim_simplified(sim_num='0007')\n",
    "CCE_sim8 = CCE_to_sim_simplified(sim_num='0008')\n",
    "CCE_sim9 = CCE_to_sim_simplified(sim_num='0009')\n",
    "CCE_sim10 = CCE_to_sim_simplified(sim_num='0010')\n",
    "CCE_sim11 = CCE_to_sim_simplified(sim_num='0011')\n",
    "CCE_sim12 = CCE_to_sim_simplified(sim_num='0012')\n",
    "CCE_sim13 = CCE_to_sim_simplified(sim_num='0013')\n",
    "\n",
    "CCE_sim305 = CCE_to_sim_simplified(sim_num='0305')"
   ]
  },
  {
   "cell_type": "code",
   "execution_count": 5,
   "metadata": {},
   "outputs": [
    {
     "name": "stderr",
     "output_type": "stream",
     "text": [
      "/data/rvnd2/python_envs/python-3.11-clone/lib/python3.11/site-packages/tqdm/auto.py:21: TqdmWarning: IProgress not found. Please update jupyter and ipywidgets. See https://ipywidgets.readthedocs.io/en/stable/user_install.html\n",
      "  from .autonotebook import tqdm as notebook_tqdm\n"
     ]
    },
    {
     "name": "stdout",
     "output_type": "stream",
     "text": [
      "Skipping download from 'https://data.black-holes.org/catalog.json' because local file is newer\n",
      "Found the following files to load from the SXS catalog:\n",
      "    SXS:BBH:1502v5/Lev3/metadata.json\n",
      "Found the following files to load from the SXS catalog:\n",
      "    SXS:BBH:1502v5/Lev3/rhOverM_Asymptotic_GeometricUnits_CoM.h5\n",
      "Downloading to /tmp/sxs-__q6k7x3/cache/SXS:BBH:1502v2/Lev3/rhOverM_Asymptotic_GeometricUnits_CoM.h5:\n"
     ]
    },
    {
     "name": "stderr",
     "output_type": "stream",
     "text": [
      "100%|██████████| 83.0M/83.0M [00:14<00:00, 6.13MB/s]\n"
     ]
    },
    {
     "name": "stdout",
     "output_type": "stream",
     "text": [
      "Found the following files to load from the SXS catalog:\n",
      "    SXS:BBH:1476v5/Lev3/metadata.json\n",
      "Found the following files to load from the SXS catalog:\n",
      "    SXS:BBH:1476v5/Lev3/rhOverM_Asymptotic_GeometricUnits_CoM.h5\n",
      "Downloading to /tmp/sxs-__q6k7x3/cache/SXS:BBH:1476v2/Lev3/rhOverM_Asymptotic_GeometricUnits_CoM.h5:\n"
     ]
    },
    {
     "name": "stderr",
     "output_type": "stream",
     "text": [
      "100%|██████████| 80.4M/80.4M [00:13<00:00, 6.13MB/s]\n"
     ]
    },
    {
     "name": "stdout",
     "output_type": "stream",
     "text": [
      "Found the following files to load from the SXS catalog:\n",
      "    SXS:BBH:1506v5/Lev3/metadata.json\n",
      "Found the following files to load from the SXS catalog:\n",
      "    SXS:BBH:1506v5/Lev3/rhOverM_Asymptotic_GeometricUnits_CoM.h5\n",
      "Downloading to /tmp/sxs-__q6k7x3/cache/SXS:BBH:1506v2/Lev3/rhOverM_Asymptotic_GeometricUnits_CoM.h5:\n"
     ]
    },
    {
     "name": "stderr",
     "output_type": "stream",
     "text": [
      "100%|██████████| 82.8M/82.8M [00:13<00:00, 6.51MB/s]\n"
     ]
    },
    {
     "name": "stdout",
     "output_type": "stream",
     "text": [
      "Found the following files to load from the SXS catalog:\n",
      "    SXS:BBH:1508v5/Lev3/metadata.json\n",
      "Found the following files to load from the SXS catalog:\n",
      "    SXS:BBH:1508v5/Lev3/rhOverM_Asymptotic_GeometricUnits_CoM.h5\n",
      "Downloading to /tmp/sxs-__q6k7x3/cache/SXS:BBH:1508v2/Lev3/rhOverM_Asymptotic_GeometricUnits_CoM.h5:\n"
     ]
    },
    {
     "name": "stderr",
     "output_type": "stream",
     "text": [
      "100%|██████████| 83.7M/83.7M [00:13<00:00, 6.61MB/s]\n"
     ]
    },
    {
     "name": "stdout",
     "output_type": "stream",
     "text": [
      "Found the following files to load from the SXS catalog:\n",
      "    SXS:BBH:1474v5/Lev3/metadata.json\n",
      "Found the following files to load from the SXS catalog:\n",
      "    SXS:BBH:1474v5/Lev3/rhOverM_Asymptotic_GeometricUnits_CoM.h5\n",
      "Downloading to /tmp/sxs-__q6k7x3/cache/SXS:BBH:1474v2/Lev3/rhOverM_Asymptotic_GeometricUnits_CoM.h5:\n"
     ]
    },
    {
     "name": "stderr",
     "output_type": "stream",
     "text": [
      "100%|██████████| 81.5M/81.5M [00:13<00:00, 6.44MB/s]\n"
     ]
    },
    {
     "name": "stdout",
     "output_type": "stream",
     "text": [
      "Found the following files to load from the SXS catalog:\n",
      "    SXS:BBH:1505v5/Lev3/metadata.json\n",
      "Found the following files to load from the SXS catalog:\n",
      "    SXS:BBH:1505v5/Lev3/rhOverM_Asymptotic_GeometricUnits_CoM.h5\n",
      "Downloading to /tmp/sxs-__q6k7x3/cache/SXS:BBH:1505v2/Lev3/rhOverM_Asymptotic_GeometricUnits_CoM.h5:\n"
     ]
    },
    {
     "name": "stderr",
     "output_type": "stream",
     "text": [
      "100%|██████████| 83.3M/83.3M [00:13<00:00, 6.69MB/s]\n"
     ]
    },
    {
     "name": "stdout",
     "output_type": "stream",
     "text": [
      "Found the following files to load from the SXS catalog:\n",
      "    SXS:BBH:1504v5/Lev3/metadata.json\n",
      "Found the following files to load from the SXS catalog:\n",
      "    SXS:BBH:1504v5/Lev3/rhOverM_Asymptotic_GeometricUnits_CoM.h5\n",
      "Downloading to /tmp/sxs-__q6k7x3/cache/SXS:BBH:1504v2/Lev3/rhOverM_Asymptotic_GeometricUnits_CoM.h5:\n"
     ]
    },
    {
     "name": "stderr",
     "output_type": "stream",
     "text": [
      "100%|██████████| 84.4M/84.4M [00:13<00:00, 6.58MB/s]\n"
     ]
    },
    {
     "name": "stdout",
     "output_type": "stream",
     "text": [
      "Found the following files to load from the SXS catalog:\n",
      "    SXS:BBH:1485v5/Lev3/metadata.json\n",
      "Found the following files to load from the SXS catalog:\n",
      "    SXS:BBH:1485v5/Lev3/rhOverM_Asymptotic_GeometricUnits_CoM.h5\n",
      "Downloading to /tmp/sxs-__q6k7x3/cache/SXS:BBH:1485v2/Lev3/rhOverM_Asymptotic_GeometricUnits_CoM.h5:\n"
     ]
    },
    {
     "name": "stderr",
     "output_type": "stream",
     "text": [
      "100%|██████████| 84.8M/84.8M [00:13<00:00, 6.64MB/s]\n"
     ]
    },
    {
     "name": "stdout",
     "output_type": "stream",
     "text": [
      "Found the following files to load from the SXS catalog:\n",
      "    SXS:BBH:1486v5/Lev3/metadata.json\n",
      "Found the following files to load from the SXS catalog:\n",
      "    SXS:BBH:1486v5/Lev3/rhOverM_Asymptotic_GeometricUnits_CoM.h5\n",
      "Downloading to /tmp/sxs-__q6k7x3/cache/SXS:BBH:1486v2/Lev3/rhOverM_Asymptotic_GeometricUnits_CoM.h5:\n"
     ]
    },
    {
     "name": "stderr",
     "output_type": "stream",
     "text": [
      "100%|██████████| 86.5M/86.5M [00:14<00:00, 6.21MB/s]\n"
     ]
    },
    {
     "name": "stdout",
     "output_type": "stream",
     "text": [
      "Found the following files to load from the SXS catalog:\n",
      "    SXS:BBH:1441v5/Lev3/metadata.json\n",
      "Found the following files to load from the SXS catalog:\n",
      "    SXS:BBH:1441v5/Lev3/rhOverM_Asymptotic_GeometricUnits_CoM.h5\n",
      "Downloading to /tmp/sxs-__q6k7x3/cache/SXS:BBH:1441v2/Lev3/rhOverM_Asymptotic_GeometricUnits_CoM.h5:\n"
     ]
    },
    {
     "name": "stderr",
     "output_type": "stream",
     "text": [
      "100%|██████████| 96.0M/96.0M [00:15<00:00, 6.69MB/s]\n"
     ]
    },
    {
     "name": "stdout",
     "output_type": "stream",
     "text": [
      "Found the following files to load from the SXS catalog:\n",
      "    SXS:BBH:1500v5/Lev3/metadata.json\n",
      "Found the following files to load from the SXS catalog:\n",
      "    SXS:BBH:1500v5/Lev3/rhOverM_Asymptotic_GeometricUnits_CoM.h5\n",
      "Downloading to /tmp/sxs-__q6k7x3/cache/SXS:BBH:1500v2/Lev3/rhOverM_Asymptotic_GeometricUnits_CoM.h5:\n"
     ]
    },
    {
     "name": "stderr",
     "output_type": "stream",
     "text": [
      "100%|██████████| 79.7M/79.7M [00:13<00:00, 6.25MB/s]\n"
     ]
    },
    {
     "name": "stdout",
     "output_type": "stream",
     "text": [
      "Found the following files to load from the SXS catalog:\n",
      "    SXS:BBH:1492v5/Lev3/metadata.json\n",
      "Found the following files to load from the SXS catalog:\n",
      "    SXS:BBH:1492v5/Lev3/rhOverM_Asymptotic_GeometricUnits_CoM.h5\n",
      "Downloading to /tmp/sxs-__q6k7x3/cache/SXS:BBH:1492v2/Lev3/rhOverM_Asymptotic_GeometricUnits_CoM.h5:\n"
     ]
    },
    {
     "name": "stderr",
     "output_type": "stream",
     "text": [
      "100%|██████████| 78.5M/78.5M [00:12<00:00, 6.43MB/s]\n"
     ]
    },
    {
     "name": "stdout",
     "output_type": "stream",
     "text": [
      "Found the following files to load from the SXS catalog:\n",
      "    SXS:BBH:1465v5/Lev3/metadata.json\n",
      "Found the following files to load from the SXS catalog:\n",
      "    SXS:BBH:1465v5/Lev3/rhOverM_Asymptotic_GeometricUnits_CoM.h5\n",
      "Downloading to /tmp/sxs-__q6k7x3/cache/SXS:BBH:1465v2/Lev3/rhOverM_Asymptotic_GeometricUnits_CoM.h5:\n"
     ]
    },
    {
     "name": "stderr",
     "output_type": "stream",
     "text": [
      "100%|██████████| 78.6M/78.6M [00:12<00:00, 6.40MB/s]\n"
     ]
    },
    {
     "name": "stdout",
     "output_type": "stream",
     "text": [
      "Found the following files to load from the SXS catalog:\n",
      "    SXS:BBH:1458v5/Lev3/metadata.json\n",
      "Found the following files to load from the SXS catalog:\n",
      "    SXS:BBH:1458v5/Lev3/rhOverM_Asymptotic_GeometricUnits_CoM.h5\n",
      "Downloading to /tmp/sxs-__q6k7x3/cache/SXS:BBH:1458v2/Lev3/rhOverM_Asymptotic_GeometricUnits_CoM.h5:\n"
     ]
    },
    {
     "name": "stderr",
     "output_type": "stream",
     "text": [
      "100%|██████████| 80.8M/80.8M [00:12<00:00, 6.54MB/s]\n"
     ]
    },
    {
     "name": "stdout",
     "output_type": "stream",
     "text": [
      "Found the following files to load from the SXS catalog:\n",
      "    SXS:BBH:1438v5/Lev3/metadata.json\n",
      "Found the following files to load from the SXS catalog:\n",
      "    SXS:BBH:1438v5/Lev3/rhOverM_Asymptotic_GeometricUnits_CoM.h5\n",
      "Downloading to /tmp/sxs-__q6k7x3/cache/SXS:BBH:1438v2/Lev3/rhOverM_Asymptotic_GeometricUnits_CoM.h5:\n"
     ]
    },
    {
     "name": "stderr",
     "output_type": "stream",
     "text": [
      "100%|██████████| 85.1M/85.1M [00:13<00:00, 6.46MB/s]\n"
     ]
    },
    {
     "name": "stdout",
     "output_type": "stream",
     "text": [
      "Found the following files to load from the SXS catalog:\n",
      "    SXS:BBH:1430v5/Lev3/metadata.json\n",
      "Found the following files to load from the SXS catalog:\n",
      "    SXS:BBH:1430v5/Lev3/rhOverM_Asymptotic_GeometricUnits_CoM.h5\n",
      "Downloading to /tmp/sxs-__q6k7x3/cache/SXS:BBH:1430v2/Lev3/rhOverM_Asymptotic_GeometricUnits_CoM.h5:\n"
     ]
    },
    {
     "name": "stderr",
     "output_type": "stream",
     "text": [
      "100%|██████████| 88.3M/88.3M [00:14<00:00, 6.36MB/s]\n"
     ]
    }
   ],
   "source": [
    "sim_1502 = qnmfits.SXS(ID=1502, zero_time=(2,2))\n",
    "sim_1476 = qnmfits.SXS(ID=1476, zero_time=(2,2))\n",
    "sim_1506 = qnmfits.SXS(ID=1506, zero_time=(2,2))\n",
    "sim_1508 = qnmfits.SXS(ID=1508, zero_time=(2,2))\n",
    "sim_1474 = qnmfits.SXS(ID=1474, zero_time=(2,2))\n",
    "sim_1505 = qnmfits.SXS(ID=1505, zero_time=(2,2))\n",
    "sim_1504 = qnmfits.SXS(ID=1504, zero_time=(2,2))\n",
    "sim_1485 = qnmfits.SXS(ID=1485, zero_time=(2,2))\n",
    "sim_1486 = qnmfits.SXS(ID=1486, zero_time=(2,2))\n",
    "sim_1441 = qnmfits.SXS(ID=1441, zero_time=(2,2))\n",
    "sim_1500 = qnmfits.SXS(ID=1500, zero_time=(2,2))\n",
    "sim_1492 = qnmfits.SXS(ID=1492, zero_time=(2,2))\n",
    "sim_1465 = qnmfits.SXS(ID=1465, zero_time=(2,2))\n",
    "sim_1458 = qnmfits.SXS(ID=1458, zero_time=(2,2))\n",
    "sim_1438 = qnmfits.SXS(ID=1438, zero_time=(2,2))\n",
    "sim_1430 = qnmfits.SXS(ID=1430, zero_time=(2,2))"
   ]
  },
  {
   "cell_type": "markdown",
   "metadata": {},
   "source": [
    "# Amplitude ratios\n",
    "\n",
    "Linear case"
   ]
  },
  {
   "cell_type": "code",
   "execution_count": 38,
   "metadata": {},
   "outputs": [
    {
     "name": "stdout",
     "output_type": "stream",
     "text": [
      "Ratio of 22 to 32\n",
      "Amplitudes:  14.206749598142537\n",
      "Mixing coefficients:  14.292870121829791\n",
      "Ratio of 22 to 42\n",
      "Amplitudes:  73.71597043750567\n",
      "Mixing coefficients:  inf\n"
     ]
    },
    {
     "name": "stderr",
     "output_type": "stream",
     "text": [
      "/tmp/ipykernel_5513/1851732283.py:51: RuntimeWarning: divide by zero encountered in scalar divide\n",
      "  print(\"Mixing coefficients: \", abs(mu_lists[0][0]/mu_lists[2][0]))\n",
      "/tmp/ipykernel_5513/1851732283.py:51: RuntimeWarning: invalid value encountered in scalar divide\n",
      "  print(\"Mixing coefficients: \", abs(mu_lists[0][0]/mu_lists[2][0]))\n"
     ]
    }
   ],
   "source": [
    "sim = CCE_sim305\n",
    "\n",
    "t0 = 0\n",
    "\n",
    "model_l1 = [(2,2,n,1) for n in range(2+1)] + [(3,2,n,1) for n in range(2+1)] + [(4,2,n,1) for n in range(2+1)] \n",
    "\n",
    "index_220 = model_l1.index((2,2,0,1))\n",
    "\n",
    "best_fit_22 = qnmfits.ringdown_fit(\n",
    "    sim.times,\n",
    "    sim.h[2,2],\n",
    "    model_l1,\n",
    "    Mf=sim.Mf,\n",
    "    chif=sim.chif_mag,\n",
    "    t0=t0,\n",
    ")\n",
    "\n",
    "best_fit_32 = qnmfits.ringdown_fit(\n",
    "    sim.times,\n",
    "    sim.h[3,2],\n",
    "    model_l1,\n",
    "    Mf=sim.Mf,\n",
    "    chif=sim.chif_mag,\n",
    "    t0=t0,\n",
    ")\n",
    "\n",
    "best_fit_42 = qnmfits.ringdown_fit(\n",
    "    sim.times,\n",
    "    sim.h[4,2],\n",
    "    model_l1,\n",
    "    Mf=sim.Mf,\n",
    "    chif=sim.chif_mag,\n",
    "    t0=t0,\n",
    ")\n",
    "\n",
    "c_220_22 = abs(best_fit_22['C'][index_220])\n",
    "c_220_32 = abs(best_fit_32['C'][index_220])\n",
    "c_220_42 = abs(best_fit_42['C'][index_220])\n",
    "\n",
    "spherical_modes = [(2,2), (3,2), (4,2)]\n",
    "\n",
    "indices_lists_l = [[lm_mode+mode for mode in [(2,2,0,1)]] for lm_mode in spherical_modes]\n",
    "mu_lists = [qnm.mu_list(indices, sim.chif_mag) for indices in indices_lists_l]\n",
    "\n",
    "print(\"Ratio of 22 to 32\")\n",
    "print(\"Amplitudes: \", c_220_22/c_220_32)\n",
    "print(\"Mixing coefficients: \", abs(mu_lists[0][0]/mu_lists[1][0]))\n",
    "\n",
    "print(\"Ratio of 22 to 42\")\n",
    "print(\"Amplitudes: \", c_220_22/c_220_42)\n",
    "print(\"Mixing coefficients: \", abs(mu_lists[0][0]/mu_lists[2][0]))\n",
    "\n",
    "\n"
   ]
  },
  {
   "cell_type": "code",
   "execution_count": null,
   "metadata": {},
   "outputs": [],
   "source": [
    "sim = CCE_sim305\n",
    "\n",
    "t0 = 0\n",
    "\n",
    "model_l1 = [(4,4,n,1) for n in range(2+1)] + [(5,4,n,1) for n in range(2+1)] + [(6,4,n,1) for n in range(2+1)] + [(2,2,0,1,2,2,0,1)]\n",
    "\n",
    "index_220220 = model_l1.index((2,2,0,1,2,2,0,1))\n",
    "\n",
    "best_fit_22 = qnmfits.ringdown_fit(\n",
    "    sim.times,\n",
    "    sim.h[4,4],\n",
    "    model_l1,\n",
    "    Mf=sim.Mf,\n",
    "    chif=sim.chif_mag,\n",
    "    t0=t0,\n",
    ")\n",
    "\n",
    "best_fit_32 = qnmfits.ringdown_fit(\n",
    "    sim.times,\n",
    "    sim.h[5,4],\n",
    "    model_l1,\n",
    "    Mf=sim.Mf,\n",
    "    chif=sim.chif_mag,\n",
    "    t0=t0,\n",
    ")\n",
    "\n",
    "best_fit_42 = qnmfits.ringdown_fit(\n",
    "    sim.times,\n",
    "    sim.h[6,4],\n",
    "    model_l1,\n",
    "    Mf=sim.Mf,\n",
    "    chif=sim.chif_mag,\n",
    "    t0=t0,\n",
    ")\n",
    "\n",
    "c_220220_44 = abs(best_fit_22['C'][index_220220])\n",
    "c_220220_54 = abs(best_fit_32['C'][index_220220])\n",
    "c_220220_64 = abs(best_fit_42['C'][index_220220])\n",
    "\n",
    "spherical_modes = [(4,4), (5,4), (6,4)]\n",
    "\n",
    "indices_lists_q = [[lm_mode+mode for mode in [(2,2,0,1,2,2,0,1)]] for lm_mode in spherical_modes]\n",
    "alpha_lists = [qnm.alpha(indices, sim.chif_mag) for indices in indices_lists_q]\n",
    "\n",
    "print(\"Ratio of 44 to 54\")\n",
    "print(\"Amplitudes: \", c_220220_44/c_220220_54)\n",
    "print(\"Mixing coefficients: \", abs(alpha_lists[0][0]/alpha_lists[1][0]))\n",
    "\n",
    "print(\"Ratio of 44 to 64\")\n",
    "print(\"Amplitudes: \", c_220220_44/c_220220_64)\n",
    "print(\"Mixing coefficients: \", abs(alpha_lists[0][0]/alpha_lists[2][0]))\n"
   ]
  }
 ],
 "metadata": {
  "kernelspec": {
   "display_name": "python-3.11-clone",
   "language": "python",
   "name": "python3"
  },
  "language_info": {
   "codemirror_mode": {
    "name": "ipython",
    "version": 3
   },
   "file_extension": ".py",
   "mimetype": "text/x-python",
   "name": "python",
   "nbconvert_exporter": "python",
   "pygments_lexer": "ipython3",
   "version": "3.11.4"
  }
 },
 "nbformat": 4,
 "nbformat_minor": 2
}
