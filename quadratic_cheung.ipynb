{
 "cells": [
  {
   "cell_type": "markdown",
   "metadata": {},
   "source": [
    "Updated: 02/02/24\n",
    "\n",
    "This workbook follows Cheung et al. 2023 and attempts to reproduce the main results. In particular, by using free frequency fitting to select both linear and possible nonlinear modes present in a particular (l,m). "
   ]
  },
  {
   "cell_type": "code",
   "execution_count": 2,
   "metadata": {},
   "outputs": [],
   "source": [
    "import numpy as np\n",
    "import matplotlib.pyplot as plt\n",
    "import qnmfitsrd as qnmfits\n",
    "from multiprocessing import Pool\n",
    "from spatial_reconstruction_tests.spatial_reconstruction import *\n",
    "from matplotlib.animation import FuncAnimation\n",
    "from scipy.interpolate import UnivariateSpline\n",
    "from Visualisation.qnm_vis import * \n",
    "from qnmfitsrd.CCE_file_getter import *\n",
    "import datetime\n",
    "from scipy.optimize import least_squares\n",
    "\n",
    "l_max = 5\n",
    "n_max = 5"
   ]
  },
  {
   "cell_type": "code",
   "execution_count": 3,
   "metadata": {},
   "outputs": [],
   "source": [
    "CCE_sim1 = CCE_to_sim_simplified(sim_num='0001')\n",
    "CCE_sim2 = CCE_to_sim_simplified(sim_num='0002')\n",
    "CCE_sim3 = CCE_to_sim_simplified(sim_num='0003')\n",
    "CCE_sim4 = CCE_to_sim_simplified(sim_num='0004')\n",
    "CCE_sim5 = CCE_to_sim_simplified(sim_num='0005')\n",
    "CCE_sim6 = CCE_to_sim_simplified(sim_num='0006')\n",
    "CCE_sim7 = CCE_to_sim_simplified(sim_num='0007')\n",
    "CCE_sim8 = CCE_to_sim_simplified(sim_num='0008')\n",
    "CCE_sim9 = CCE_to_sim_simplified(sim_num='0009')\n",
    "CCE_sim10 = CCE_to_sim_simplified(sim_num='0010')\n",
    "CCE_sim11 = CCE_to_sim_simplified(sim_num='0011')\n",
    "CCE_sim12 = CCE_to_sim_simplified(sim_num='0012')\n",
    "CCE_sim13 = CCE_to_sim_simplified(sim_num='0013')\n",
    "\n",
    "CCE_sim305 = CCE_to_sim_simplified(sim_num='0305')"
   ]
  },
  {
   "cell_type": "code",
   "execution_count": null,
   "metadata": {},
   "outputs": [],
   "source": [
    "sim_1502 = qnmfits.SXS(ID=1502, zero_time=(2,2))\n",
    "sim_1476 = qnmfits.SXS(ID=1476, zero_time=(2,2))\n",
    "sim_1506 = qnmfits.SXS(ID=1506, zero_time=(2,2))\n",
    "sim_1508 = qnmfits.SXS(ID=1508, zero_time=(2,2))\n",
    "sim_1474 = qnmfits.SXS(ID=1474, zero_time=(2,2))\n",
    "sim_1505 = qnmfits.SXS(ID=1505, zero_time=(2,2))\n",
    "sim_1504 = qnmfits.SXS(ID=1504, zero_time=(2,2))\n",
    "sim_1485 = qnmfits.SXS(ID=1485, zero_time=(2,2))\n",
    "sim_1486 = qnmfits.SXS(ID=1486, zero_time=(2,2))\n",
    "sim_1441 = qnmfits.SXS(ID=1441, zero_time=(2,2))\n",
    "sim_1500 = qnmfits.SXS(ID=1500, zero_time=(2,2))\n",
    "sim_1492 = qnmfits.SXS(ID=1492, zero_time=(2,2))\n",
    "sim_1465 = qnmfits.SXS(ID=1465, zero_time=(2,2))\n",
    "sim_1458 = qnmfits.SXS(ID=1458, zero_time=(2,2))\n",
    "sim_1438 = qnmfits.SXS(ID=1438, zero_time=(2,2))\n",
    "sim_1430 = qnmfits.SXS(ID=1430, zero_time=(2,2))"
   ]
  },
  {
   "cell_type": "markdown",
   "metadata": {},
   "source": [
    "# Reproducing main result \n",
    "\n",
    "Iterate through all qnms up to some l_max, n_max. For a given QNM, allow the frequency to vary and fit for the frequency that minimises mismatch. If this frequency is consistent with prediction and doesn't vary over a range of $t_0$, add it to the model. Repeat for the next QNM to build up a full linear model of QNMs present in a particular (l,m). \n",
    "\n",
    "\n",
    "Note: should try randomising this to eliminate bias? "
   ]
  },
  {
   "cell_type": "code",
   "execution_count": 14,
   "metadata": {},
   "outputs": [
    {
     "name": "stdout",
     "output_type": "stream",
     "text": [
      "[0.55578191-0.08517235j]\n",
      "(0.433779686463009-0.09419927821507568j)\n",
      "[1.19294236-0.0888605j]\n",
      "(0.4290050913753686-0.0512056456677662j)\n",
      "[1.40309264-0.09038973j]\n",
      "(0.4282624409805067-0.051035310572828334j)\n"
     ]
    }
   ],
   "source": [
    "sim = CCE_sim305\n",
    "\n",
    "start_times = np.linspace(-40, 40, 100)\n",
    "\n",
    "\"\"\"\n",
    "QNMs = [(lam,mu,n,p) for lam in np.arange(2, l_max+1)\n",
    "                        for mu in np.arange(-lam, lam+1)\n",
    "                           for n in np.arange(0, 1)\n",
    "                              for p in (-1, +1)]\n",
    "\"\"\"\n",
    "\n",
    "QNMs = [(2,2,0,1), (4,4,0,1), (5,4,0,1)]\n",
    "\n",
    "current_model = [] \n",
    "\n",
    "for QNM in QNMs:\n",
    "    new_model = current_model + [QNM]\n",
    "    omegas = [] \n",
    "    for t0 in start_times:\n",
    "        omega_bestfit = qnmfits.free_frequency_fit(sim.times, sim.h[4,4], t0, modes=new_model, Mf=sim.Mf, chif=sim.chif_mag)\n",
    "        omegas.append(omega_bestfit)\n",
    "        #plt.scatter(omega_bestfit.real, omega_bestfit.imag)\n",
    "    #plt.title('New model: ' + str(new_model))\n",
    "    #plt.show() \n",
    "    omega_0 = omegas[40]\n",
    "    frequency = np.array(qnm.omega_list([QNM], sim.chif_mag, sim.Mf))\n",
    "    print(frequency)\n",
    "    print(omega_0)\n",
    "    include_bool = np.isclose(omega_0.real, frequency.real, rtol=1e-01) & np.isclose(omega_0.imag, frequency.imag, rtol=1e-01)\n",
    "    if include_bool == 'y':\n",
    "        current_model = new_model\n",
    "    else:\n",
    "        continue\n"
   ]
  },
  {
   "cell_type": "code",
   "execution_count": 15,
   "metadata": {},
   "outputs": [
    {
     "data": {
      "text/plain": [
       "[]"
      ]
     },
     "execution_count": 15,
     "metadata": {},
     "output_type": "execute_result"
    }
   ],
   "source": [
    "current_model"
   ]
  }
 ],
 "metadata": {
  "kernelspec": {
   "display_name": "python-3.11-clone",
   "language": "python",
   "name": "python3"
  },
  "language_info": {
   "codemirror_mode": {
    "name": "ipython",
    "version": 3
   },
   "file_extension": ".py",
   "mimetype": "text/x-python",
   "name": "python",
   "nbconvert_exporter": "python",
   "pygments_lexer": "ipython3",
   "version": "3.11.4"
  }
 },
 "nbformat": 4,
 "nbformat_minor": 2
}
